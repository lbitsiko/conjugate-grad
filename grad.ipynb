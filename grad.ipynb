{
 "cells": [
  {
   "cell_type": "code",
   "execution_count": 1,
   "metadata": {},
   "outputs": [],
   "source": [
    "import numpy as np\n",
    "from numpy import linalg as LA"
   ]
  },
  {
   "cell_type": "code",
   "execution_count": 2,
   "metadata": {},
   "outputs": [
    {
     "data": {
      "text/plain": [
       "array([0. , 0. , 0.5])"
      ]
     },
     "execution_count": 2,
     "metadata": {},
     "output_type": "execute_result"
    }
   ],
   "source": [
    "A = np.float64(np.array([[2,0,1],\n",
    "         [0,5,0],\n",
    "         [1,0,2]]))\n",
    "b = np.float64(np.array([3,-5,3]))\n",
    "x0 = np.float64(np.array([0,0,1/2]))\n",
    "x0"
   ]
  },
  {
   "cell_type": "code",
   "execution_count": 3,
   "metadata": {},
   "outputs": [],
   "source": [
    "def grad(A,b,x0, maxiter):\n",
    "    \"\"\"\n",
    "        Gradient method for solving Ax =b\n",
    "        \n",
    "        Parameters:\n",
    "                    A: nxn matrix\n",
    "                    b: nx1 constants vector\n",
    "                    x0: starting input for algorithm\n",
    "                    maxiter: number of iterations\n",
    "                    \n",
    "        Returns:\n",
    "                x: approximation of solution, nx1 vector\n",
    "    \"\"\"\n",
    "    x = np.copy(x0)\n",
    "    Ax = np.matmul(A,x)\n",
    "    r = b-Ax\n",
    "    print_start(x,r)\n",
    "    for k in range(maxiter):\n",
    "        norm_r_2 = LA.norm(r,2)\n",
    "        Ar = np.matmul(A,r)\n",
    "        norm_r_A = np.matmul(r,Ar)\n",
    "        ak = np.square(norm_r_2)/norm_r_A\n",
    "        x += ak*r\n",
    "        r -= ak *Ar\n",
    "        print_status_for_every_iter(k,ak,x,r)\n",
    "        \n",
    "    return x\n",
    "\n",
    "def print_start(x0,r0):\n",
    "    print(\"Starting with\")\n",
    "    print(\"x_0 = \", x0)\n",
    "    print(\"r_0 = \", r0)\n",
    "    print(\"\")\n",
    "    \n",
    "def print_status_for_every_iter(k,ak,x,r):\n",
    "    print(\"Iteration k=\",k)\n",
    "    print(\"a_{} =\".format(k), ak)\n",
    "    print(\"x_{} = \".format(k+1),x)\n",
    "    print(\"r_{} = \".format(k+1),r)\n",
    "    print(\"\")\n",
    "    "
   ]
  },
  {
   "cell_type": "code",
   "execution_count": 4,
   "metadata": {},
   "outputs": [
    {
     "name": "stdout",
     "output_type": "stream",
     "text": [
      "Starting with\n",
      "x_0 =  [0.  0.  0.5]\n",
      "r_0 =  [ 2.5 -5.   2. ]\n",
      "\n",
      "Iteration k= 0\n",
      "a_0 = 0.2266881028938907\n",
      "x_1 =  [ 0.56672026 -1.13344051  0.95337621]\n",
      "r_1 =  [0.91318328 0.66720257 0.52652733]\n",
      "\n",
      "Iteration k= 1\n",
      "a_1 = 0.2876859448652138\n",
      "x_2 =  [ 0.82943025 -0.94149571  1.10485072]\n",
      "r_2 =  [ 0.23628878 -0.29252144 -0.03913169]\n",
      "\n"
     ]
    }
   ],
   "source": [
    "sol_grad = grad(A,b,x0, maxiter = 2)"
   ]
  },
  {
   "cell_type": "code",
   "execution_count": 5,
   "metadata": {},
   "outputs": [],
   "source": [
    "def conj_grad(A, b, x0, maxiter = 2):\n",
    "    \"\"\"\n",
    "    Conjugate graduate method for solving Ax=b\n",
    "    \n",
    "    Parameters:\n",
    "                A: nxn matrix\n",
    "                b: nx1 constants vector\n",
    "                x0: starting input for algorithm\n",
    "                maxiter: number of iterations\n",
    "                    \n",
    "        Returns:\n",
    "                x: approximation of solution, nx1 vector\n",
    "    \"\"\"\n",
    "    x = np.copy(x0)\n",
    "    Ax = np.matmul(A,x) \n",
    "    r = b - Ax\n",
    "    p = np.copy(r)\n",
    "    print(\"Starting with:\")\n",
    "    print(\"x_0 = \", x)\n",
    "    print(\"r_0 = \", r)\n",
    "    print(\"p_0 = \", p)\n",
    "    print(\"\")\n",
    "    for k in range(maxiter):\n",
    "        Ap = np.matmul(A,p)\n",
    "        norm_p_A = np.matmul(p,Ap)\n",
    "        ak = np.dot(p,r)/norm_p_A\n",
    "        x += ak * p\n",
    "        r += r - ak * Ap\n",
    "        bk = np.matmul(Ap,r) / np.matmul(Ap, p)\n",
    "        p = r - bk * p\n",
    "        \n",
    "        print(\"a_{} = \".format(k), ak)\n",
    "        print(\"x_{} = \".format(k+1), x)\n",
    "        print(\"r_{} = \".format(k+1), r)\n",
    "        print(\"b_{} = \".format(k), bk)\n",
    "        print(\"p_{} = \".format(k+1), p)\n",
    "        print(\"\")\n",
    "    return x"
   ]
  },
  {
   "cell_type": "code",
   "execution_count": 6,
   "metadata": {},
   "outputs": [
    {
     "name": "stdout",
     "output_type": "stream",
     "text": [
      "Starting with:\n",
      "x_0 =  [0.  0.  0.5]\n",
      "r_0 =  [ 2.5 -5.   2. ]\n",
      "p_0 =  [ 2.5 -5.   2. ]\n",
      "\n",
      "a_0 =  0.2266881028938907\n",
      "x_1 =  [ 0.56672026 -1.13344051  0.95337621]\n",
      "r_1 =  [ 3.41318328 -4.33279743  2.52652733]\n",
      "b_0 =  0.9558498154485581\n",
      "p_1 =  [1.02355874 0.44645165 0.6148277 ]\n",
      "\n",
      "a_1 =  0.6095236423304586\n",
      "x_2 =  [ 1.19060351 -0.86131768  1.32812823]\n",
      "r_2 =  [  5.20384804 -10.02620903   3.67966737]\n",
      "b_1 =  -0.04653809866906776\n",
      "p_2 =  [  5.25148251 -10.00543202   3.70828028]\n",
      "\n"
     ]
    }
   ],
   "source": [
    "sol_conj = conj_grad(A,b,x0,maxiter = 2)"
   ]
  },
  {
   "cell_type": "code",
   "execution_count": 7,
   "metadata": {},
   "outputs": [
    {
     "name": "stdout",
     "output_type": "stream",
     "text": [
      "[ 0.82943025 -0.94149571  1.10485072]\n",
      "[ 1.19060351 -0.86131768  1.32812823]\n"
     ]
    }
   ],
   "source": [
    "print(sol_grad)\n",
    "print(sol_conj)"
   ]
  },
  {
   "cell_type": "code",
   "execution_count": 8,
   "metadata": {},
   "outputs": [
    {
     "data": {
      "text/plain": [
       "array([ 1., -1.,  1.])"
      ]
     },
     "execution_count": 8,
     "metadata": {},
     "output_type": "execute_result"
    }
   ],
   "source": [
    "np.linalg.solve(A,b)"
   ]
  },
  {
   "cell_type": "code",
   "execution_count": null,
   "metadata": {},
   "outputs": [],
   "source": []
  }
 ],
 "metadata": {
  "kernelspec": {
   "display_name": "Python 3",
   "language": "python",
   "name": "python3"
  },
  "language_info": {
   "codemirror_mode": {
    "name": "ipython",
    "version": 3
   },
   "file_extension": ".py",
   "mimetype": "text/x-python",
   "name": "python",
   "nbconvert_exporter": "python",
   "pygments_lexer": "ipython3",
   "version": "3.8.1"
  }
 },
 "nbformat": 4,
 "nbformat_minor": 4
}
