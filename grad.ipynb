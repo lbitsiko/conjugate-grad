{
 "cells": [
  {
   "cell_type": "code",
   "execution_count": 1,
   "metadata": {},
   "outputs": [],
   "source": [
    "import numpy as np\n",
    "from numpy import linalg as LA"
   ]
  },
  {
   "cell_type": "code",
   "execution_count": 2,
   "metadata": {},
   "outputs": [
    {
     "data": {
      "text/plain": [
       "array([0. , 0. , 0.5])"
      ]
     },
     "execution_count": 2,
     "metadata": {},
     "output_type": "execute_result"
    }
   ],
   "source": [
    "A = np.float64(np.array([[2,0,1],\n",
    "         [0,5,0],\n",
    "         [1,0,2]]))\n",
    "b = np.float64(np.array([3,-5,3]))\n",
    "x0 = np.float64(np.array([0,0,1/2]))\n",
    "x0"
   ]
  },
  {
   "cell_type": "code",
   "execution_count": 3,
   "metadata": {},
   "outputs": [],
   "source": [
    "def grad(A,b,x0, maxiter, print_everything = True):\n",
    "    \"\"\"\n",
    "        Gradient method for solving Ax =b\n",
    "        \n",
    "        Parameters:\n",
    "                    A: nxn matrix\n",
    "                    b: nx1 constants vector\n",
    "                    x0: starting input for algorithm\n",
    "                    maxiter: number of iterations\n",
    "                    \n",
    "        Returns:\n",
    "                x: approximation of solution, nx1 vector\n",
    "    \"\"\"\n",
    "    x = np.copy(x0)\n",
    "    Ax = np.matmul(A,x)\n",
    "    r = b-Ax\n",
    "    if print_everything: print_start_grad(x,r)\n",
    "    for k in range(maxiter):\n",
    "        norm_r_2 = LA.norm(r,2)\n",
    "        Ar = np.matmul(A,r)\n",
    "        norm_r_A = np.matmul(r,Ar)\n",
    "        ak = np.square(norm_r_2)/norm_r_A\n",
    "        x += ak*r\n",
    "        r -= ak *Ar\n",
    "        if print_everything: print_status_for_every_iter_grad(k,ak,x,r)\n",
    "        \n",
    "    return x\n",
    "\n",
    "def print_start_grad(x0,r0):\n",
    "    print(\"Starting with\")\n",
    "    print(\"x_0 = \", x0)\n",
    "    print(\"r_0 = \", r0)\n",
    "    print(\"\")\n",
    "    \n",
    "def print_status_for_every_iter_grad(k,ak,x,r):\n",
    "    print(\"Iteration k=\",k)\n",
    "    print(\"a_{} =\".format(k), ak)\n",
    "    print(\"x_{} = \".format(k+1),x)\n",
    "    print(\"r_{} = \".format(k+1),r)\n",
    "    print(\"\")\n",
    "    "
   ]
  },
  {
   "cell_type": "code",
   "execution_count": 4,
   "metadata": {},
   "outputs": [
    {
     "name": "stdout",
     "output_type": "stream",
     "text": [
      "Starting with\n",
      "x_0 =  [0.  0.  0.5]\n",
      "r_0 =  [ 2.5 -5.   2. ]\n",
      "\n",
      "Iteration k= 0\n",
      "a_0 = 0.2266881028938907\n",
      "x_1 =  [ 0.56672026 -1.13344051  0.95337621]\n",
      "r_1 =  [0.91318328 0.66720257 0.52652733]\n",
      "\n",
      "Iteration k= 1\n",
      "a_1 = 0.2876859448652138\n",
      "x_2 =  [ 0.82943025 -0.94149571  1.10485072]\n",
      "r_2 =  [ 0.23628878 -0.29252144 -0.03913169]\n",
      "\n"
     ]
    }
   ],
   "source": [
    "sol_grad = grad(A,b,x0, maxiter = 2)"
   ]
  },
  {
   "cell_type": "code",
   "execution_count": 5,
   "metadata": {},
   "outputs": [],
   "source": [
    "def conj_grad(A, b, x0, maxiter = 2, print_everything = True):\n",
    "    \"\"\"\n",
    "    Conjugate graduate method for solving Ax=b\n",
    "    \n",
    "    Parameters:\n",
    "                A: nxn matrix\n",
    "                b: nx1 constants vector\n",
    "                x0: starting input for algorithm\n",
    "                maxiter: number of iterations\n",
    "                    \n",
    "        Returns:\n",
    "                x: approximation of solution, nx1 vector\n",
    "    \"\"\"\n",
    "    x = np.copy(x0)\n",
    "    Ax = np.matmul(A,x) \n",
    "    r = b - Ax\n",
    "    p = np.copy(r)\n",
    "    if print_everything: print_start_conj(x,r,p)\n",
    "    for k in range(maxiter):\n",
    "        Ap = np.matmul(A,p)\n",
    "        ak = np.matmul(p,r)/np.matmul(p,Ap)\n",
    "        x += ak * p\n",
    "        r -= ak * Ap\n",
    "        bk = np.matmul(Ap,r) / np.matmul(Ap, p)\n",
    "        p = r - bk * p\n",
    "        if print_everything: print_iteration_conj(k,ak,x,r,bk,p)\n",
    "    return x\n",
    "\n",
    "def print_start_conj(x,r,p):\n",
    "        print(\"Starting with:\")\n",
    "        print(\"x_0 = \", x)\n",
    "        print(\"r_0 = \", r)\n",
    "        print(\"p_0 = \", p)\n",
    "        print(\"\")\n",
    "\n",
    "def print_iteration_conj(k,ak,x,r,bk,p):     \n",
    "        print(\"a_{} = \".format(k), ak)\n",
    "        print(\"x_{} = \".format(k+1), x)\n",
    "        print(\"r_{} = \".format(k+1), r)\n",
    "        print(\"b_{} = \".format(k), bk)\n",
    "        print(\"p_{} = \".format(k+1), p)\n",
    "        print(\"\")"
   ]
  },
  {
   "cell_type": "code",
   "execution_count": 6,
   "metadata": {},
   "outputs": [
    {
     "name": "stdout",
     "output_type": "stream",
     "text": [
      "Starting with:\n",
      "x_0 =  [0.  0.  0.5]\n",
      "r_0 =  [ 2.5 -5.   2. ]\n",
      "p_0 =  [ 2.5 -5.   2. ]\n",
      "\n",
      "a_0 =  0.2266881028938907\n",
      "x_1 =  [ 0.56672026 -1.13344051  0.95337621]\n",
      "r_1 =  [0.91318328 0.66720257 0.52652733]\n",
      "b_0 =  -0.04415018455144181\n",
      "p_1 =  [1.02355874 0.44645165 0.6148277 ]\n",
      "\n",
      "a_1 =  0.30476182116522854\n",
      "x_2 =  [ 0.87866188 -0.9973791   1.14075222]\n",
      "r_2 =  [ 0.10192402 -0.01310452 -0.16016631]\n",
      "b_1 =  -0.023269049334537325\n",
      "p_2 =  [ 0.12574126 -0.00271601 -0.14585986]\n",
      "\n"
     ]
    }
   ],
   "source": [
    "sol_conj = conj_grad(A,b,x0,maxiter = 2)"
   ]
  },
  {
   "cell_type": "code",
   "execution_count": 7,
   "metadata": {},
   "outputs": [
    {
     "name": "stdout",
     "output_type": "stream",
     "text": [
      "[ 0.82943025 -0.94149571  1.10485072]\n",
      "[ 0.87866188 -0.9973791   1.14075222]\n"
     ]
    }
   ],
   "source": [
    "print(sol_grad)\n",
    "print(sol_conj)"
   ]
  },
  {
   "cell_type": "code",
   "execution_count": 8,
   "metadata": {},
   "outputs": [
    {
     "data": {
      "text/plain": [
       "array([ 1., -1.,  1.])"
      ]
     },
     "execution_count": 8,
     "metadata": {},
     "output_type": "execute_result"
    }
   ],
   "source": [
    "# real solution\n",
    "np.linalg.solve(A,b)"
   ]
  },
  {
   "cell_type": "code",
   "execution_count": 9,
   "metadata": {},
   "outputs": [
    {
     "data": {
      "text/plain": [
       "(array([1., 3., 5.]),\n",
       " array([[-0.70710678, -0.70710678,  0.        ],\n",
       "        [ 0.        ,  0.        , -1.        ],\n",
       "        [ 0.70710678, -0.70710678,  0.        ]]))"
      ]
     },
     "execution_count": 9,
     "metadata": {},
     "output_type": "execute_result"
    }
   ],
   "source": [
    "LA.eigh(A)"
   ]
  },
  {
   "cell_type": "code",
   "execution_count": 10,
   "metadata": {},
   "outputs": [
    {
     "data": {
      "text/plain": [
       "array([ 1., -1.,  1.])"
      ]
     },
     "execution_count": 10,
     "metadata": {},
     "output_type": "execute_result"
    }
   ],
   "source": [
    "# Better approximation for grad\n",
    "sol_grad = grad(A,b,x0, maxiter = 43, print_everything=False)\n",
    "sol_grad"
   ]
  },
  {
   "cell_type": "code",
   "execution_count": 11,
   "metadata": {},
   "outputs": [
    {
     "data": {
      "text/plain": [
       "array([ 1., -1.,  1.])"
      ]
     },
     "execution_count": 11,
     "metadata": {},
     "output_type": "execute_result"
    }
   ],
   "source": [
    "# Better approximation for conj grad\n",
    "sol_conj = conj_grad(A,b,x0,maxiter = 3, print_everything=False)\n",
    "sol_conj"
   ]
  },
  {
   "cell_type": "code",
   "execution_count": null,
   "metadata": {},
   "outputs": [],
   "source": []
  }
 ],
 "metadata": {
  "kernelspec": {
   "display_name": "Python 3",
   "language": "python",
   "name": "python3"
  },
  "language_info": {
   "codemirror_mode": {
    "name": "ipython",
    "version": 3
   },
   "file_extension": ".py",
   "mimetype": "text/x-python",
   "name": "python",
   "nbconvert_exporter": "python",
   "pygments_lexer": "ipython3",
   "version": "3.7.7"
  }
 },
 "nbformat": 4,
 "nbformat_minor": 4
}
